{
 "cells": [
  {
   "cell_type": "code",
   "execution_count": 1,
   "metadata": {},
   "outputs": [],
   "source": [
    "import os\n",
    "from dotenv import load_dotenv\n",
    "load_dotenv()  # take environment variables from .env.\n",
    "\n",
    "from supabase import create_client, Client"
   ]
  },
  {
   "cell_type": "code",
   "execution_count": 2,
   "metadata": {},
   "outputs": [],
   "source": [
    "url = os.environ[\"SUPABASE_URL\"]\n",
    "key = os.environ[\"SUPABASE_KEY\"]\n",
    "\n",
    "supabase: Client = create_client(url, key)"
   ]
  },
  {
   "cell_type": "code",
   "execution_count": 3,
   "metadata": {},
   "outputs": [
    {
     "name": "stdout",
     "output_type": "stream",
     "text": [
      "('data', [{'id': 588, 'created_at': '2024-09-22T12:31:54.422615+00:00', 'subject_matter': 'Probability', 'topic_description': 'Common Misconceptions', 'level': 'Analyse', 'question': 'A study shows that people who drink coffee regularly have a higher risk of developing heart disease. Does this necessarily mean that drinking coffee causes heart disease?', 'type': 'multiple_options', 'answer_correct': 'b', 'explanation': 'The correct answer is **b**.  Correlation does not imply causation.  While the study shows a correlation between coffee consumption and heart disease, it does not prove that coffee is the cause of heart disease. There could be other factors, such as genetics, lifestyle, or other dietary habits, that contribute to both coffee consumption and heart disease.  \\n\\n**a** and **c** are incorrect because the study does not establish a causal relationship. \\n\\n**d** is incorrect because there is no scientific evidence to support the claim that coffee is a healthy drink and cannot cause heart disease.', 'answer_a': 'Yes, because the study shows a direct causal relationship between coffee consumption and heart disease.', 'answer_b': 'No, because correlation does not imply causation. There may be other factors influencing both coffee consumption and heart disease.', 'answer_c': 'No, because coffee is a healthy drink and cannot cause heart disease.', 'answer_d': 'Yes, because the study provides strong evidence for a causal link.'}])\n"
     ]
    }
   ],
   "source": [
    "data, count = supabase.table('get_question').select(\"*\").execute()\n",
    "print(data)"
   ]
  },
  {
   "cell_type": "code",
   "execution_count": 4,
   "metadata": {},
   "outputs": [
    {
     "data": {
      "text/plain": [
       "{'id': 588,\n",
       " 'created_at': '2024-09-22T12:31:54.422615+00:00',\n",
       " 'subject_matter': 'Probability',\n",
       " 'topic_description': 'Common Misconceptions',\n",
       " 'level': 'Analyse',\n",
       " 'question': 'A study shows that people who drink coffee regularly have a higher risk of developing heart disease. Does this necessarily mean that drinking coffee causes heart disease?',\n",
       " 'type': 'multiple_options',\n",
       " 'answer_correct': 'b',\n",
       " 'explanation': 'The correct answer is **b**.  Correlation does not imply causation.  While the study shows a correlation between coffee consumption and heart disease, it does not prove that coffee is the cause of heart disease. There could be other factors, such as genetics, lifestyle, or other dietary habits, that contribute to both coffee consumption and heart disease.  \\n\\n**a** and **c** are incorrect because the study does not establish a causal relationship. \\n\\n**d** is incorrect because there is no scientific evidence to support the claim that coffee is a healthy drink and cannot cause heart disease.',\n",
       " 'answer_a': 'Yes, because the study shows a direct causal relationship between coffee consumption and heart disease.',\n",
       " 'answer_b': 'No, because correlation does not imply causation. There may be other factors influencing both coffee consumption and heart disease.',\n",
       " 'answer_c': 'No, because coffee is a healthy drink and cannot cause heart disease.',\n",
       " 'answer_d': 'Yes, because the study provides strong evidence for a causal link.'}"
      ]
     },
     "execution_count": 4,
     "metadata": {},
     "output_type": "execute_result"
    }
   ],
   "source": [
    "data[1][0]"
   ]
  },
  {
   "cell_type": "code",
   "execution_count": null,
   "metadata": {},
   "outputs": [],
   "source": []
  },
  {
   "cell_type": "code",
   "execution_count": 5,
   "metadata": {},
   "outputs": [],
   "source": [
    "response = supabase.table('get_question').select(\"*\").execute()"
   ]
  },
  {
   "cell_type": "code",
   "execution_count": 9,
   "metadata": {},
   "outputs": [
    {
     "data": {
      "text/plain": [
       "[{'id': 193,\n",
       "  'created_at': '2024-09-22T12:31:47.019638+00:00',\n",
       "  'subject_matter': 'Probability',\n",
       "  'topic_description': 'Residuals interpretation',\n",
       "  'level': 'Remember',\n",
       "  'question': 'What does a negative residual in a linear regression model indicate?',\n",
       "  'type': 'multiple_options',\n",
       "  'answer_correct': 'a',\n",
       "  'explanation': 'The correct answer is **a**. A negative residual means that the predicted value (the value predicted by the regression line) is higher than the observed value (the actual data point). This indicates that the model overestimates the actual value for that data point.\\n\\nOption **b** is incorrect as it describes a positive residual.\\n\\nOptions **c** and **d** are incorrect as they refer to the overall model fit, not the specific interpretation of a single negative residual.',\n",
       "  'answer_a': 'The predicted value is higher than the observed value.',\n",
       "  'answer_b': 'The predicted value is lower than the observed value.',\n",
       "  'answer_c': 'The model is not a good fit for the data.',\n",
       "  'answer_d': 'The model is a perfect fit for the data.'}]"
      ]
     },
     "execution_count": 9,
     "metadata": {},
     "output_type": "execute_result"
    }
   ],
   "source": [
    "response.data"
   ]
  }
 ],
 "metadata": {
  "kernelspec": {
   "display_name": ".venv",
   "language": "python",
   "name": "python3"
  },
  "language_info": {
   "codemirror_mode": {
    "name": "ipython",
    "version": 3
   },
   "file_extension": ".py",
   "mimetype": "text/x-python",
   "name": "python",
   "nbconvert_exporter": "python",
   "pygments_lexer": "ipython3",
   "version": "3.11.2"
  }
 },
 "nbformat": 4,
 "nbformat_minor": 2
}
