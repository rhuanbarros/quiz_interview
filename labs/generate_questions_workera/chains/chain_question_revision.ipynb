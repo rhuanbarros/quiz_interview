{
 "cells": [
  {
   "cell_type": "markdown",
   "metadata": {},
   "source": [
    "# Question revision chain\n",
    "\n",
    "- get a question\n",
    "- LLM A and B verify if the question is OK\n",
    "    - there is more than one option correct\n",
    "    - sugests modifications to improve the questions and options\n",
    "    - sugest a detailed explanation to give to the student\n",
    "- verify \n",
    "    - if they diverge, calls another LLM to solve vote\n",
    "    - if ok, merge using OpenAI"
   ]
  },
  {
   "cell_type": "code",
   "execution_count": 6,
   "metadata": {},
   "outputs": [],
   "source": [
    "from dotenv import load_dotenv\n",
    "import json_repair\n",
    "import os\n",
    "import pandas as pd"
   ]
  },
  {
   "cell_type": "code",
   "execution_count": 7,
   "metadata": {},
   "outputs": [
    {
     "name": "stdout",
     "output_type": "stream",
     "text": [
      "<class 'pandas.core.frame.DataFrame'>\n",
      "RangeIndex: 953 entries, 0 to 952\n",
      "Data columns (total 13 columns):\n",
      " #   Column             Non-Null Count  Dtype \n",
      "---  ------             --------------  ----- \n",
      " 0   id                 953 non-null    int64 \n",
      " 1   created_at         953 non-null    object\n",
      " 2   subject_matter     953 non-null    object\n",
      " 3   topic_description  953 non-null    object\n",
      " 4   level              953 non-null    object\n",
      " 5   question           953 non-null    object\n",
      " 6   type               953 non-null    object\n",
      " 7   answer_correct     953 non-null    object\n",
      " 8   explanation        953 non-null    object\n",
      " 9   answer_a           953 non-null    object\n",
      " 10  answer_b           953 non-null    object\n",
      " 11  answer_c           953 non-null    object\n",
      " 12  answer_d           953 non-null    object\n",
      "dtypes: int64(1), object(12)\n",
      "memory usage: 96.9+ KB\n"
     ]
    }
   ],
   "source": [
    "df = pd.read_csv(\"questions.csv\")\n",
    "df.info()"
   ]
  },
  {
   "cell_type": "code",
   "execution_count": 2,
   "metadata": {},
   "outputs": [
    {
     "name": "stderr",
     "output_type": "stream",
     "text": [
      "/workspaces/quiz_interview/.venv/lib/python3.11/site-packages/tqdm/auto.py:21: TqdmWarning: IProgress not found. Please update jupyter and ipywidgets. See https://ipywidgets.readthedocs.io/en/stable/user_install.html\n",
      "  from .autonotebook import tqdm as notebook_tqdm\n"
     ]
    }
   ],
   "source": [
    "import google.generativeai as genai\n",
    "\n",
    "key_gemini = os.environ[\"GOOGLE_API_KEY\"]\n",
    "\n",
    "genai.configure(api_key=key_gemini)"
   ]
  },
  {
   "cell_type": "code",
   "execution_count": 3,
   "metadata": {},
   "outputs": [],
   "source": [
    "# Create the model\n",
    "generation_config = {\n",
    "    \"temperature\": 1,\n",
    "    \"top_p\": 0.95,\n",
    "    # \"top_k\": 64,\n",
    "    # \"max_output_tokens\": 8192,\n",
    "    \"response_mime_type\": \"application/json\",\n",
    "}\n",
    "\n",
    "llm_gemini = genai.GenerativeModel(\n",
    "    model_name=\"gemini-1.5-flash\",\n",
    "    generation_config=generation_config,\n",
    "    # safety_settings = Adjust safety settings\n",
    "    # See https://ai.google.dev/gemini-api/docs/safety-settings\n",
    ")"
   ]
  },
  {
   "cell_type": "code",
   "execution_count": 5,
   "metadata": {},
   "outputs": [],
   "source": [
    "# llm_gemini.generate_content(\"quem é vc?\")"
   ]
  },
  {
   "cell_type": "code",
   "execution_count": null,
   "metadata": {},
   "outputs": [],
   "source": [
    "prompt_revision = (\n",
    "    \"You are an expert in machine learning.\"\n",
    "    \"your task is to analyse the provided question to verify if there is some problem.\"\n",
    "    \"You shoud verify if there is just one option correct or if there is more than one.\"\n",
    "    \"Also, you should give a detailed explanation for your answer.\"\n",
    "    \"# QUESTION\"\n",
    "    \"{question}\\n\\n\"\n",
    "    # \"# OUTPUT FORMAT\\n\"\n",
    "    # \"{output_format}\"\n",
    ")"
   ]
  },
  {
   "cell_type": "code",
   "execution_count": null,
   "metadata": {},
   "outputs": [],
   "source": []
  }
 ],
 "metadata": {
  "kernelspec": {
   "display_name": ".venv",
   "language": "python",
   "name": "python3"
  },
  "language_info": {
   "codemirror_mode": {
    "name": "ipython",
    "version": 3
   },
   "file_extension": ".py",
   "mimetype": "text/x-python",
   "name": "python",
   "nbconvert_exporter": "python",
   "pygments_lexer": "ipython3",
   "version": "3.11.2"
  }
 },
 "nbformat": 4,
 "nbformat_minor": 2
}
