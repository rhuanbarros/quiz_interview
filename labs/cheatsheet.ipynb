{
 "cells": [
  {
   "cell_type": "code",
   "execution_count": 1,
   "metadata": {},
   "outputs": [
    {
     "data": {
      "text/plain": [
       "True"
      ]
     },
     "execution_count": 1,
     "metadata": {},
     "output_type": "execute_result"
    }
   ],
   "source": [
    "import os\n",
    "from dotenv import load_dotenv\n",
    "load_dotenv()  # take environment variables from .env."
   ]
  },
  {
   "cell_type": "code",
   "execution_count": 2,
   "metadata": {},
   "outputs": [
    {
     "name": "stderr",
     "output_type": "stream",
     "text": [
      "/workspaces/quiz_interview/.venv/lib/python3.11/site-packages/tqdm/auto.py:21: TqdmWarning: IProgress not found. Please update jupyter and ipywidgets. See https://ipywidgets.readthedocs.io/en/stable/user_install.html\n",
      "  from .autonotebook import tqdm as notebook_tqdm\n"
     ]
    }
   ],
   "source": [
    "import google.generativeai as genai\n",
    "from google.ai.generativelanguage_v1beta.types import content\n",
    "\n",
    "key_gemini = os.environ[\"GOOGLE_API_KEY\"]\n",
    "\n",
    "genai.configure(api_key=key_gemini)"
   ]
  },
  {
   "cell_type": "code",
   "execution_count": 3,
   "metadata": {},
   "outputs": [],
   "source": [
    "# Create the model\n",
    "generation_config = {\n",
    "    \"temperature\": 1,\n",
    "    \"top_p\": 0.95,\n",
    "    # \"top_k\": 64,\n",
    "    # \"max_output_tokens\": 8192,\n",
    "    \"response_mime_type\": \"text/plain\",\n",
    "    # \"response_schema\": schema,\n",
    "    # \"response_mime_type\": \"application/json\",\n",
    "}\n",
    "    \n",
    "\n",
    "llm_gemini = genai.GenerativeModel(\n",
    "    # model_name=\"gemini-1.5-flash\",\n",
    "    # model_name=\"gemini-1.5-flash-exp-0827\",\n",
    "    model_name=\"gemini-1.5-pro-002\",\n",
    "    generation_config=generation_config,\n",
    ")"
   ]
  },
  {
   "cell_type": "code",
   "execution_count": 4,
   "metadata": {},
   "outputs": [],
   "source": [
    "prompt_cheatsheet = (\n",
    "    \"create a cheatsheet of the text provide in format of list with topics and subtopics.\\n\"\n",
    "    \"output in markdown code to copy.\\n\"\n",
    "    \"the markdown code should render in a jupyter notebook. so make sure the math formulas are in latex properly to reder in a jupyter notebook\\n\\n\"\n",
    "    \"if necessary, you can expand the content to complement some concepts\\n\\n\"\n",
    "    \"when creating titles, dont put number at the beggining. Titles and subtitles should use #, ## and so on.\\n\\n\"\n",
    "    \"TEXT:\\n\\n\"\n",
    "    \"{TEXT}\"\n",
    ")"
   ]
  },
  {
   "cell_type": "code",
   "execution_count": 15,
   "metadata": {},
   "outputs": [],
   "source": [
    "text = r\"\"\"\n",
    "Bayes' Theorem\n",
    "\"\"\""
   ]
  },
  {
   "cell_type": "code",
   "execution_count": 16,
   "metadata": {},
   "outputs": [
    {
     "name": "stdout",
     "output_type": "stream",
     "text": [
      "create a cheatsheet of the text provide in format of list with topics and subtopics.\n",
      "output in markdown code to copy.\n",
      "the markdown code should render in a jupyter notebook. so make sure the math formulas are in latex properly to reder in a jupyter notebook\n",
      "\n",
      "if necessary, you can expand the content to complement some concepts\n",
      "\n",
      "when creating titles, dont put number at the beggining. Titles and subtitles should use #, ## and so on.\n",
      "\n",
      "TEXT:\n",
      "\n",
      "\n",
      "Bayes' Theorem\n",
      "\n"
     ]
    }
   ],
   "source": [
    "prompt_cheatsheet_formatted = prompt_cheatsheet.format(\n",
    "        TEXT=text,        \n",
    "    )\n",
    "\n",
    "print( prompt_cheatsheet_formatted )"
   ]
  },
  {
   "cell_type": "code",
   "execution_count": 17,
   "metadata": {},
   "outputs": [],
   "source": [
    "response = llm_gemini.generate_content(prompt_cheatsheet_formatted)"
   ]
  },
  {
   "cell_type": "code",
   "execution_count": 18,
   "metadata": {},
   "outputs": [
    {
     "data": {
      "text/markdown": [
       "# Bayes' Theorem\n",
       "\n",
       "## Introduction\n",
       "\n",
       "* **Purpose:**  A method to update our beliefs about an event based on new evidence.  It reverses the conditional probability.\n",
       "* **Key Idea:**  It relates the conditional probability of an event A given event B to the conditional probability of event B given event A.\n",
       "\n",
       "## Formula\n",
       "\n",
       "* **Standard Form:** $P(A|B) = \\frac{P(B|A)P(A)}{P(B)}$\n",
       "\n",
       "    * $P(A|B)$: Posterior probability -  The probability of event A occurring given that event B has occurred. This is what we want to calculate.\n",
       "    * $P(B|A)$: Likelihood - The probability of observing event B given that event A has occurred.\n",
       "    * $P(A)$: Prior probability -  The initial probability of event A occurring before considering any new evidence (B).\n",
       "    * $P(B)$: Evidence (Marginal Likelihood) - The probability of event B occurring.\n",
       "\n",
       "* **Expanded Form:**  $P(A|B) = \\frac{P(B|A)P(A)}{P(B|A)P(A) + P(B|\\neg A)P(\\neg A)}$\n",
       "\n",
       "    * $P(B|\\neg A)$: The probability of observing event B given that event A has *not* occurred.\n",
       "    * $P(\\neg A)$: The probability of event A *not* occurring. This is equal to $1 - P(A)$.  This form is helpful when $P(B)$ is not directly known.\n",
       "\n",
       "## Example\n",
       "\n",
       "* Let's say we want to know the probability of having a disease (A) given a positive test result (B).\n",
       "\n",
       "    * $P(A)$: Prior probability of having the disease (e.g., prevalence in the population).\n",
       "    * $P(B|A)$: Likelihood of a positive test given the person has the disease (e.g., sensitivity of the test).\n",
       "    * $P(B|\\neg A)$: Likelihood of a positive test given the person does *not* have the disease (e.g., 1 - specificity of the test - representing the false positive rate).\n",
       "    * $P(\\neg A)$: Prior probability of *not* having the disease ($1 - P(A)$).\n",
       "    * $P(A|B)$: Posterior probability of having the disease given a positive test result. This is what Bayes' Theorem helps us calculate.\n",
       "\n",
       "## Applications\n",
       "\n",
       "* **Medical Diagnosis:**  Calculating the probability of a disease given certain symptoms or test results.\n",
       "* **Spam Filtering:** Determining the probability of an email being spam given its content.\n",
       "* **Machine Learning:**  Updating model parameters based on new data.\n",
       "* **A/B Testing:** Evaluating the effectiveness of different versions of a website or app.\n",
       "\n",
       "## Key Concepts\n",
       "\n",
       "* **Prior:**  Our initial belief about an event before observing any evidence.\n",
       "* **Likelihood:** The probability of observing the evidence given a specific hypothesis.\n",
       "* **Posterior:** Our updated belief about an event after observing the evidence.\n",
       "* **Evidence:** The observed data that is used to update our beliefs.\n",
       "\n",
       "## Common Pitfalls\n",
       "\n",
       "* **Confusing prior and posterior:** Remember the prior is *before* evidence, and the posterior is *after* evidence.\n",
       "* **Ignoring the base rate (prior probability):** The prior can significantly influence the posterior. Even with strong evidence, a low prior probability can lead to a low posterior probability.\n",
       "* **Incorrectly estimating likelihoods:**  Accurate estimation of likelihoods is crucial for accurate results.\n",
       "\n",
       "\n",
       "`"
      ],
      "text/plain": [
       "<IPython.core.display.Markdown object>"
      ]
     },
     "metadata": {},
     "output_type": "display_data"
    }
   ],
   "source": [
    "from IPython.display import display, Markdown\n",
    "\n",
    "markdown_code = response.text[12:-3]\n",
    "\n",
    "display(Markdown(markdown_code))"
   ]
  },
  {
   "cell_type": "code",
   "execution_count": 19,
   "metadata": {},
   "outputs": [
    {
     "name": "stdout",
     "output_type": "stream",
     "text": [
      "# Bayes' Theorem\n",
      "\n",
      "## Introduction\n",
      "\n",
      "* **Purpose:**  A method to update our beliefs about an event based on new evidence.  It reverses the conditional probability.\n",
      "* **Key Idea:**  It relates the conditional probability of an event A given event B to the conditional probability of event B given event A.\n",
      "\n",
      "## Formula\n",
      "\n",
      "* **Standard Form:** $P(A|B) = \\frac{P(B|A)P(A)}{P(B)}$\n",
      "\n",
      "    * $P(A|B)$: Posterior probability -  The probability of event A occurring given that event B has occurred. This is what we want to calculate.\n",
      "    * $P(B|A)$: Likelihood - The probability of observing event B given that event A has occurred.\n",
      "    * $P(A)$: Prior probability -  The initial probability of event A occurring before considering any new evidence (B).\n",
      "    * $P(B)$: Evidence (Marginal Likelihood) - The probability of event B occurring.\n",
      "\n",
      "* **Expanded Form:**  $P(A|B) = \\frac{P(B|A)P(A)}{P(B|A)P(A) + P(B|\\neg A)P(\\neg A)}$\n",
      "\n",
      "    * $P(B|\\neg A)$: The probability of observing event B given that event A has *not* occurred.\n",
      "    * $P(\\neg A)$: The probability of event A *not* occurring. This is equal to $1 - P(A)$.  This form is helpful when $P(B)$ is not directly known.\n",
      "\n",
      "## Example\n",
      "\n",
      "* Let's say we want to know the probability of having a disease (A) given a positive test result (B).\n",
      "\n",
      "    * $P(A)$: Prior probability of having the disease (e.g., prevalence in the population).\n",
      "    * $P(B|A)$: Likelihood of a positive test given the person has the disease (e.g., sensitivity of the test).\n",
      "    * $P(B|\\neg A)$: Likelihood of a positive test given the person does *not* have the disease (e.g., 1 - specificity of the test - representing the false positive rate).\n",
      "    * $P(\\neg A)$: Prior probability of *not* having the disease ($1 - P(A)$).\n",
      "    * $P(A|B)$: Posterior probability of having the disease given a positive test result. This is what Bayes' Theorem helps us calculate.\n",
      "\n",
      "## Applications\n",
      "\n",
      "* **Medical Diagnosis:**  Calculating the probability of a disease given certain symptoms or test results.\n",
      "* **Spam Filtering:** Determining the probability of an email being spam given its content.\n",
      "* **Machine Learning:**  Updating model parameters based on new data.\n",
      "* **A/B Testing:** Evaluating the effectiveness of different versions of a website or app.\n",
      "\n",
      "## Key Concepts\n",
      "\n",
      "* **Prior:**  Our initial belief about an event before observing any evidence.\n",
      "* **Likelihood:** The probability of observing the evidence given a specific hypothesis.\n",
      "* **Posterior:** Our updated belief about an event after observing the evidence.\n",
      "* **Evidence:** The observed data that is used to update our beliefs.\n",
      "\n",
      "## Common Pitfalls\n",
      "\n",
      "* **Confusing prior and posterior:** Remember the prior is *before* evidence, and the posterior is *after* evidence.\n",
      "* **Ignoring the base rate (prior probability):** The prior can significantly influence the posterior. Even with strong evidence, a low prior probability can lead to a low posterior probability.\n",
      "* **Incorrectly estimating likelihoods:**  Accurate estimation of likelihoods is crucial for accurate results.\n",
      "\n",
      "\n",
      "`\n"
     ]
    }
   ],
   "source": [
    "print( markdown_code )"
   ]
  },
  {
   "cell_type": "code",
   "execution_count": null,
   "metadata": {},
   "outputs": [],
   "source": []
  },
  {
   "cell_type": "code",
   "execution_count": null,
   "metadata": {},
   "outputs": [],
   "source": []
  },
  {
   "cell_type": "code",
   "execution_count": null,
   "metadata": {},
   "outputs": [],
   "source": []
  }
 ],
 "metadata": {
  "kernelspec": {
   "display_name": ".venv",
   "language": "python",
   "name": "python3"
  },
  "language_info": {
   "codemirror_mode": {
    "name": "ipython",
    "version": 3
   },
   "file_extension": ".py",
   "mimetype": "text/x-python",
   "name": "python",
   "nbconvert_exporter": "python",
   "pygments_lexer": "ipython3",
   "version": "3.11.2"
  }
 },
 "nbformat": 4,
 "nbformat_minor": 2
}
