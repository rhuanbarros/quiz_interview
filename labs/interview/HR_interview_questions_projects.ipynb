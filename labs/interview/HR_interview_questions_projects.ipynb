{
 "cells": [
  {
   "cell_type": "code",
   "execution_count": 1,
   "metadata": {},
   "outputs": [
    {
     "data": {
      "text/plain": [
       "True"
      ]
     },
     "execution_count": 1,
     "metadata": {},
     "output_type": "execute_result"
    }
   ],
   "source": [
    "import os\n",
    "from dotenv import load_dotenv\n",
    "load_dotenv()  # take environment variables from .env."
   ]
  },
  {
   "cell_type": "code",
   "execution_count": 2,
   "metadata": {},
   "outputs": [
    {
     "name": "stderr",
     "output_type": "stream",
     "text": [
      "/workspaces/quiz_interview/.venv/lib/python3.11/site-packages/tqdm/auto.py:21: TqdmWarning: IProgress not found. Please update jupyter and ipywidgets. See https://ipywidgets.readthedocs.io/en/stable/user_install.html\n",
      "  from .autonotebook import tqdm as notebook_tqdm\n"
     ]
    }
   ],
   "source": [
    "import google.generativeai as genai\n",
    "from google.ai.generativelanguage_v1beta.types import content\n",
    "\n",
    "key_gemini = os.environ[\"GOOGLE_API_KEY\"]\n",
    "\n",
    "genai.configure(api_key=key_gemini)"
   ]
  },
  {
   "cell_type": "code",
   "execution_count": 3,
   "metadata": {},
   "outputs": [],
   "source": [
    "# Create the model\n",
    "generation_config = {\n",
    "    \"temperature\": 0.75,\n",
    "    \"top_p\": 0.95,\n",
    "    # \"top_k\": 64,\n",
    "    # \"max_output_tokens\": 8192,\n",
    "    \"response_mime_type\": \"text/plain\",\n",
    "    # \"response_schema\": schema,\n",
    "    # \"response_mime_type\": \"application/json\",\n",
    "}\n",
    "    \n",
    "\n",
    "llm_gemini = genai.GenerativeModel(\n",
    "    # model_name=\"gemini-1.5-flash\",\n",
    "    # model_name=\"gemini-1.5-flash-exp-0827\",\n",
    "    model_name=\"gemini-1.5-pro-002\",\n",
    "    generation_config=generation_config,\n",
    ")"
   ]
  },
  {
   "cell_type": "code",
   "execution_count": 4,
   "metadata": {},
   "outputs": [],
   "source": [
    "prompt = (\n",
    "    \"TEXT:\\n\\n\"\n",
    "    \"{TEXT}\\n\\n\"\n",
    "    \"TEXT FRAMEWORK\"\n",
    "    \"{FRAMEWORK}\"\n",
    "    \"I'm preparing for a job interview. I need you to help me to explain my project using the CAR Framework\\n\"\n",
    "    \"given the text of my work and explanation about the CAR Framework create my discourse about my porject using the CAR Framework.\\n\"\n",
    "    # \"use the folloing titles to guide the creatio and to group the experience\"\n",
    "    # \"business analisys, data scraping, data preparation (etl), gold standard dataset creation, machine learning modeling, statiscal analisys, dashboards presentation\"\n",
    "    \"write everything in english\"\n",
    ")"
   ]
  },
  {
   "cell_type": "code",
   "execution_count": 5,
   "metadata": {},
   "outputs": [
    {
     "name": "stdout",
     "output_type": "stream",
     "text": [
      "Current directory: /workspaces/quiz_interview/labs/interview\n"
     ]
    }
   ],
   "source": [
    "import os\n",
    "\n",
    "# Get the current working directory\n",
    "current_dir = os.getcwd()\n",
    "print(\"Current directory:\", current_dir)"
   ]
  },
  {
   "cell_type": "code",
   "execution_count": 6,
   "metadata": {},
   "outputs": [],
   "source": [
    "with open('master_tesis.txt', 'r') as file:\n",
    "    txt = file.read()"
   ]
  },
  {
   "cell_type": "code",
   "execution_count": 7,
   "metadata": {},
   "outputs": [],
   "source": [
    "txt = \"\"\"\n",
    "RAG project at TRT\n",
    "Challenge\n",
    "At my current company, we addressed the problem of find information in the companies document knowledge base.\n",
    "Previously, there was a difficult to find important information hidden in the vast amount of documents available in the company’s Google Drive and IT Helpdesk Knowledge Database.\n",
    "The IT staff sometimes could not find the correct document to help the clients what could lead to delay to solve the user’s problem or sometime they couldn’t even really help the client, all this could result in poor service.\n",
    "My role in this project was to conduct all the development phases from data ingestion, cleaning and preparation, including the programming of the RAG AI system.\n",
    "Action\n",
    "data ingestion from google drive using llamaindex framework and keep data in sync\n",
    "implementation of the rag agent using Langchain and Langraph framework with Google Gemini\n",
    "tests e evaluation of the accuracy of the system using  Truelens and Ragas\n",
    "deployment in the local infrastructure using CI/CD Devops with Gitlab\n",
    "Result\n",
    "The IT HelpDesk now can find documents faster and easier than before. \n",
    "What was done in minutes can be done in seconds\n",
    "this reflects in better user satisfaction\n",
    "\n",
    "\"\"\""
   ]
  },
  {
   "cell_type": "code",
   "execution_count": 8,
   "metadata": {},
   "outputs": [
    {
     "data": {
      "text/plain": [
       "1199"
      ]
     },
     "execution_count": 8,
     "metadata": {},
     "output_type": "execute_result"
    }
   ],
   "source": [
    "l = len(txt)\n",
    "l"
   ]
  },
  {
   "cell_type": "code",
   "execution_count": 9,
   "metadata": {},
   "outputs": [],
   "source": [
    "FRAMEWORK = \"\"\"\n",
    "Detailed Breakdown of the CAR Framework\n",
    "1. Challenge\n",
    "The Challenge component is crucial as it sets the context for your story. Here are some key points to consider:\n",
    "Select Relevant Challenges: Choose challenges that are relevant to the position you are applying for. This shows that you understand the role and can relate your past experiences to potential future scenarios.\n",
    "Provide Context: Describe the situation in detail. What was at stake? Who was involved? What were the consequences of not addressing the challenge? This helps the interviewer understand the gravity of the situation.\n",
    "Example:\n",
    "\"In my role as a project manager at ABC Tech, we encountered a major challenge when a key client expressed dissatisfaction with our product's performance. Their contract renewal was at risk, which could have resulted in a loss of $500,000 in revenue.\"\n",
    "2. Action\n",
    "The Action component is where you showcase your problem-solving skills and initiative. Here’s how to effectively communicate this part:\n",
    "Focus on Your Role: Clearly articulate what you personally did to address the challenge. Use \"I\" statements to emphasize your contributions.\n",
    "Detail Specific Actions: Describe the steps you took, including any strategies, tools, or methodologies you employed. This could involve collaboration with others, decision-making processes, or innovative solutions.\n",
    "Example:\n",
    "\"To address the client's concerns, I organized a series of meetings with their team to understand their specific issues. I then collaborated with our engineering department to prioritize fixes and implemented a new feedback loop that allowed us to track improvements in real time. Additionally, I provided weekly updates to the client to keep them informed and engaged.\"\n",
    "3. Result\n",
    "The Result component is where you can truly shine by quantifying your achievements and demonstrating your impact. Consider these aspects:\n",
    "Quantify Outcomes: Whenever possible, use numbers to illustrate the results of your actions. Metrics such as percentages, dollar amounts, or time saved make your achievements more tangible.\n",
    "Highlight Positive Changes: Discuss not only what you achieved but also any long-term benefits that resulted from your actions.\n",
    "Example:\n",
    "\"As a result of these efforts, we not only retained the client but also increased their satisfaction score from 70% to 90% within three months. This led to a contract extension worth an additional $300,000 over two years and opened up opportunities for upselling additional services.\"\n",
    "Additional Tips for Using the CAR Framework\n",
    "Tailoring Your Stories\n",
    "Know Your Audience: Research the company and role beforehand. Tailor your CAR stories to reflect skills and experiences that align with their values and needs.\n",
    "Practicing Delivery\n",
    "Mock Interviews: Conduct mock interviews with friends or mentors who can provide feedback on your storytelling style and clarity.\n",
    "Engaging Presentation\n",
    "Use Engaging Language: Make your stories engaging by using descriptive language that conveys enthusiasm and passion for your work.\n",
    "Reflective Insights\n",
    "Lessons Learned: After discussing results, consider adding a reflection on what you learned from the experience or how it influenced your approach in subsequent roles. This demonstrates growth and adaptability.\n",
    "Example Summary Using CAR\n",
    "Here’s how a complete CAR response might look when put together:\n",
    "Challenge: \"In my role as a project manager at ABC Tech, we faced a significant challenge when a key client expressed dissatisfaction with our product's performance, risking a $500,000 contract renewal.\"\n",
    "Action: \"I organized meetings with their team to understand their specific issues and collaborated closely with our engineering department to prioritize necessary fixes. I also established a feedback loop for real-time tracking of improvements and provided weekly updates to keep the client informed.\"\n",
    "Result: \"As a result, we retained the client and improved their satisfaction score from 70% to 90% within three months. This not only secured an additional $300,000 in revenue but also opened opportunities for upselling our services.\"\n",
    "Conclusion\n",
    "Using the CAR framework effectively can significantly enhance your ability to convey your experiences during job interviews. By clearly articulating challenges, actions taken, and results achieved, you can present yourself as a proactive problem-solver who delivers tangible results—qualities that are highly valued by employers across all industries.\n",
    "\n",
    "\"\"\""
   ]
  },
  {
   "cell_type": "code",
   "execution_count": 10,
   "metadata": {},
   "outputs": [
    {
     "name": "stdout",
     "output_type": "stream",
     "text": [
      "TEXT:\n",
      "\n",
      "\n",
      "RAG project at TRT\n",
      "Challenge\n",
      "At my current company, we addressed the problem of find information in the companies document knowledge base.\n",
      "Previously, there was a difficult to find important information hidden in the vast amount of documents available in the company’s Google Drive and IT Helpdesk Knowledge Database.\n",
      "The IT staff sometimes could not find the correct document to help the clients what could lead to delay to solve the user’s problem or sometime they couldn’t even really help the client, all this could result in poor service.\n",
      "My role in this project was to conduct all the develop\n",
      "\n",
      "TEXT FRAMEWORK\n",
      "Detailed Breakdown of the CAR Framework\n",
      "1. Challenge\n",
      "The Challenge component is crucial as it sets the context for your story. Here are some key points to consider:\n",
      "Select Relevant Challenges: Choose challenges that are relevant to the position you are applying for. This shows that you understand the role and can relate your past experiences to potential future scenarios.\n",
      "Provide Context: Describe the situation in detail. What was at stake? Who was involved? What were the consequences of not addressing the challenge? This helps the interviewer understand the gravity of the situation.\n",
      "Example:\n",
      "\"In my role as a project manager at ABC Tech, we encountered a major challenge when a key client expressed dissatisfaction with our product's performance. Their contract renewal was at risk, which could have resulted in a loss of $500,000 in revenue.\"\n",
      "2. Action\n",
      "The Action component is where you showcase your problem-solving skills and initiative. Here’s how to effectively communicate this part:\n",
      "Focus on Your Role: Clearly articulate what you personally did to address the challenge. Use \"I\" statements to emphasize your contributions.\n",
      "Detail Specific Actions: Describe the steps you took, including any strategies, tools, or methodologies you employed. This could involve collaboration with others, decision-making processes, or innovative solutions.\n",
      "Example:\n",
      "\"To address the client's concerns, I organized a series of meetings with their team to understand their specific issues. I then collaborated with our engineering department to prioritize fixes and implemented a new feedback loop that allowed us to track improvements in real time. Additionally, I provided weekly updates to the client to keep them informed and engaged.\"\n",
      "3. Result\n",
      "The Result component is where you can truly shine by quantifying your achievements and demonstrating your impact. Consider these aspects:\n",
      "Quantify Outcomes: Whenever possible, use numbers to illustrate the results of your actions. Metrics such as percentages, dollar amounts, or time saved make your achievements more tangible.\n",
      "Highlight Positive Changes: Discuss not only what you achieved but also any long-term benefits that resulted from your actions.\n",
      "Example:\n",
      "\"As a result of these efforts, we not only retained the client but also increased their satisfaction score from 70% to 90% within three months. This led to a contract extension worth an additional $300,000 over two years and opened up opportunities for upselling additional services.\"\n",
      "Additional Tips for Using the CAR Framework\n",
      "Tailoring Your Stories\n",
      "Know Your Audience: Research the company and role beforehand. Tailor your CAR stories to reflect skills and experiences that align with their values and needs.\n",
      "Practicing Delivery\n",
      "Mock Interviews: Conduct mock interviews with friends or mentors who can provide feedback on your storytelling style and clarity.\n",
      "Engaging Presentation\n",
      "Use Engaging Language: Make your stories engaging by using descriptive language that conveys enthusiasm and passion for your work.\n",
      "Reflective Insights\n",
      "Lessons Learned: After discussing results, consider adding a reflection on what you learned from the experience or how it influenced your approach in subsequent roles. This demonstrates growth and adaptability.\n",
      "Example Summary Using CAR\n",
      "Here’s how a complete CAR response might look when put together:\n",
      "Challenge: \"In my role as a project manager at ABC Tech, we faced a significant challenge when a key client expressed dissatisfaction with our product's performance, risking a $500,000 contract renewal.\"\n",
      "Action: \"I organized meetings with their team to understand their specific issues and collaborated closely with our engineering department to prioritize necessary fixes. I also established a feedback loop for real-time tracking of improvements and provided weekly updates to keep the client informed.\"\n",
      "Result: \"As a result, we retained the client and improved their satisfaction score from 70% to 90% within three months. This not only secured an additional $300,000 in revenue but also opened opportunities for upselling our services.\"\n",
      "Conclusion\n",
      "Using the CAR framework effectively can significantly enhance your ability to convey your experiences during job interviews. By clearly articulating challenges, actions taken, and results achieved, you can present yourself as a proactive problem-solver who delivers tangible results—qualities that are highly valued by employers across all industries.\n",
      "\n",
      "I'm preparing for a job interview. I need you to help me to explain my project using the CAR Framework\n",
      "given the text of my work and explanation about the CAR Framework create my discourse about my porject using the CAR Framework.\n",
      "write everything in english\n"
     ]
    }
   ],
   "source": [
    "prompt_formatted = prompt.format(\n",
    "        TEXT=txt[:int(l*0.5)],\n",
    "        FRAMEWORK=FRAMEWORK\n",
    "    )\n",
    "\n",
    "print( prompt_formatted )"
   ]
  },
  {
   "cell_type": "code",
   "execution_count": null,
   "metadata": {},
   "outputs": [],
   "source": [
    "response = llm_gemini.generate_content(prompt_formatted)"
   ]
  },
  {
   "cell_type": "code",
   "execution_count": null,
   "metadata": {},
   "outputs": [],
   "source": [
    "print( response.text )"
   ]
  },
  {
   "cell_type": "code",
   "execution_count": null,
   "metadata": {},
   "outputs": [],
   "source": []
  },
  {
   "cell_type": "code",
   "execution_count": null,
   "metadata": {},
   "outputs": [],
   "source": [
    "prompt_formatted = prompt.format(\n",
    "        TEXT=txt[int(l*0.5):],\n",
    "    )\n",
    "\n",
    "print( prompt_formatted )"
   ]
  },
  {
   "cell_type": "code",
   "execution_count": null,
   "metadata": {},
   "outputs": [],
   "source": [
    "response2 = llm_gemini.generate_content(prompt_formatted)"
   ]
  },
  {
   "cell_type": "code",
   "execution_count": null,
   "metadata": {},
   "outputs": [],
   "source": [
    "print( response2.text )"
   ]
  },
  {
   "cell_type": "code",
   "execution_count": null,
   "metadata": {},
   "outputs": [],
   "source": []
  },
  {
   "cell_type": "code",
   "execution_count": null,
   "metadata": {},
   "outputs": [],
   "source": []
  },
  {
   "cell_type": "code",
   "execution_count": null,
   "metadata": {},
   "outputs": [],
   "source": [
    "prompt_2 = (\n",
    "    \"TEXT:\\n\\n\"\n",
    "    \"{TEXT}\"\n",
    "    \"I want to create the text for the experience of my likedin profile.\\n\"\n",
    "    \"given the summary of my work in my mastes degree above create the text for the experience section.\\n\"\n",
    "    \"use the folloing titles to guide the creatio and to group the experience\\n\"\n",
    "    \"business analisys, data scraping, data preparation (etl), gold standard dataset creation, machine learning modeling, statiscal analisys, dashboards presentation\"\n",
    "    \"write everything in english\\n\"\n",
    "    \"also, consider the folloing guidelines to create the text\\n\"\n",
    ")"
   ]
  },
  {
   "cell_type": "code",
   "execution_count": null,
   "metadata": {},
   "outputs": [],
   "source": [
    "guidelines = r\"\"\"\n",
    "Writing a strong experience section for your LinkedIn profile can significantly boost your professional appeal. Here are some key tips and examples to make each entry stand out:\n",
    "\n",
    "1. Use a Clear and Relevant Job Title\n",
    "Use the exact title of your role. If it’s non-standard or doesn’t convey your responsibilities, consider adding a brief clarifier, like “Software Engineer – Machine Learning” instead of just “Engineer.”\n",
    "2. Start with an Overview (2-3 Sentences)\n",
    "Summarize your role and key responsibilities. This should highlight the scope of your role and any unique expertise you bring.\n",
    "Example: \"As a Data Scientist at XYZ Corp, I analyze large datasets to develop predictive models that support customer segmentation and targeted marketing strategies, helping to drive a 20% increase in customer retention.\"\n",
    "\n",
    "3. Highlight Key Achievements and Metrics\n",
    "Quantify your impact with numbers where possible (e.g., \"increased sales by 30%,\" \"managed a $1M project\"). This makes your achievements more credible and memorable.\n",
    "Example: \"Led a cross-functional team to optimize the supply chain, reducing costs by 15% and improving delivery speed by 25% across three regions.\"\n",
    "\n",
    "4. Use Bullet Points for Readability\n",
    "Bullet points make it easy for viewers to scan your experience. Start each bullet with an action verb (e.g., \"Developed,\" \"Implemented,\" \"Managed\").\n",
    "Example:\n",
    "\n",
    "Developed and deployed a machine learning model for fraud detection, reducing false positives by 40%.\n",
    "Collaborated with stakeholders across engineering and product teams to align on project goals and ensure timely delivery.\n",
    "5. Include Keywords for SEO\n",
    "Use industry-relevant keywords and skills to improve the chances of your profile appearing in LinkedIn search results. For instance, in machine learning, you might include terms like “Python,” “data analysis,” “neural networks,” or “NLP.”\n",
    "6. Showcase Impact on the Organization\n",
    "Emphasize how your work positively affected your company. This could include revenue growth, process improvements, customer satisfaction, or product success.\n",
    "Example: \"Developed an automated data pipeline that reduced reporting time by 50%, enabling faster decision-making for the executive team.\"\n",
    "\n",
    "7. Mention Projects or Initiatives\n",
    "If you worked on noteworthy projects, include a short description with the project's goal and outcome.\n",
    "Example: \"Spearheaded a project to launch a chatbot that automated 30% of customer service inquiries, improving user experience and reducing wait times by 40%.\"\n",
    "\n",
    "8. Use First-Person Language (Optional)\n",
    "You can use either first-person or implied first-person style, depending on your preference and the tone of your profile.\n",
    "9. Tailor Each Experience to Align with Your Career Goals\n",
    "Emphasize aspects of your experience that align with the roles you're targeting. If you’re aiming for machine learning positions, focus on ML projects and technical skills.\n",
    "Example Format for LinkedIn Experience Section\n",
    "Role Title | Company Name | Dates of Employment Location (optional)\n",
    "\n",
    "Brief overview of the role (1-2 sentences).\n",
    "Highlight 1: Key achievement, ideally with a metric. Example: \"Improved user engagement by 25% by implementing personalized recommendation algorithms.\"\n",
    "Highlight 2: Significant responsibility or project that showcases a specific skill. Example: \"Managed end-to-end deployment of a fraud detection model, resulting in a 40% reduction in fraudulent transactions.\"\n",
    "Highlight 3: Additional achievement, focusing on impact. Example: \"Collaborated with marketing and product teams to leverage predictive analytics, increasing customer conversion rates by 15%.\"\n",
    "Each entry should be concise yet showcase your strengths, achievements, and impact, giving potential employers a clear picture of what you bring to the table.\n",
    "\"\"\"\n"
   ]
  },
  {
   "cell_type": "code",
   "execution_count": null,
   "metadata": {},
   "outputs": [],
   "source": [
    "prompt_2 = prompt_2 + guidelines\n",
    "prompt_2"
   ]
  },
  {
   "cell_type": "code",
   "execution_count": null,
   "metadata": {},
   "outputs": [],
   "source": [
    "prompt_formatted = prompt_2.format(\n",
    "        TEXT=response.text + response2.text\n",
    "    )\n",
    "\n",
    "print( prompt_formatted )"
   ]
  },
  {
   "cell_type": "code",
   "execution_count": null,
   "metadata": {},
   "outputs": [],
   "source": [
    "response3 = llm_gemini.generate_content(prompt_formatted)"
   ]
  },
  {
   "cell_type": "code",
   "execution_count": null,
   "metadata": {},
   "outputs": [],
   "source": [
    "print( response3.text )"
   ]
  },
  {
   "cell_type": "code",
   "execution_count": null,
   "metadata": {},
   "outputs": [],
   "source": []
  },
  {
   "cell_type": "code",
   "execution_count": null,
   "metadata": {},
   "outputs": [],
   "source": []
  },
  {
   "cell_type": "code",
   "execution_count": null,
   "metadata": {},
   "outputs": [],
   "source": [
    "Analyzed judicial bias in Brazilian Labor Courts (TRT-4) using data science techniques including web scraping, natural language processing (NLP), machine learning, and statistical analysis.\n",
    "\n",
    "Extracted 20,000+ legal decisions from lexml.gov.br and trt4.jus.br using Python and the Scrapy web scraping framework.\n",
    "\n",
    "Implemented a robust ETL pipeline for data cleaning, transformation, and feature engineering.\n",
    "\n",
    "Leveraged NLP techniques such as tokenization, lemmatization, stop-word removal, and TF-IDF to prepare text data for machine learning models.\n",
    "\n",
    "Trained and evaluated multiple machine learning classifiers including Rocchio, Gradient Boosting, Naive Bayes, K-NN, SVM, Decision Tree, and Random Forest using Scikit-learn and 7-fold cross-validation.\n",
    "\n",
    "Applied weak supervision with Snorkel to expand training data and enhance model performance.\n",
    "\n",
    "Conducted statistical hypothesis testing (z-test, chi-squared) to assess the statistical significance of findings.\n",
    "\n",
    "Calculated effect size (Cohen's d) and statistical power to quantify the impact and reliability of observed differences.\n",
    "\n",
    "Visualized results with dashboards including histograms and bar charts to communicate findings effectively.\n",
    "\n",
    "Keywords: Judicial Bias, Labor Courts, TRT-4, Brazil, Web Scraping, Python, Scrapy, NLP, Natural Language Processing, Machine Learning, Statistical Analysis, Data Science, ETL, Feature Engineering, Classification, Hypothesis Testing, Data Visualization."
   ]
  },
  {
   "cell_type": "code",
   "execution_count": null,
   "metadata": {},
   "outputs": [],
   "source": []
  }
 ],
 "metadata": {
  "kernelspec": {
   "display_name": ".venv",
   "language": "python",
   "name": "python3"
  },
  "language_info": {
   "codemirror_mode": {
    "name": "ipython",
    "version": 3
   },
   "file_extension": ".py",
   "mimetype": "text/x-python",
   "name": "python",
   "nbconvert_exporter": "python",
   "pygments_lexer": "ipython3",
   "version": "3.11.2"
  }
 },
 "nbformat": 4,
 "nbformat_minor": 2
}
