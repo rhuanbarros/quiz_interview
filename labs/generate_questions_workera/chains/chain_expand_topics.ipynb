{
 "cells": [
  {
   "cell_type": "code",
   "execution_count": 110,
   "metadata": {},
   "outputs": [],
   "source": [
    "import os\n",
    "from dotenv import load_dotenv\n",
    "\n",
    "import pandas as pd"
   ]
  },
  {
   "cell_type": "code",
   "execution_count": 59,
   "metadata": {},
   "outputs": [],
   "source": [
    "from langchain_core.prompts import PromptTemplate"
   ]
  },
  {
   "cell_type": "markdown",
   "metadata": {},
   "source": [
    "# Gemini"
   ]
  },
  {
   "cell_type": "code",
   "execution_count": 85,
   "metadata": {},
   "outputs": [],
   "source": [
    "import google.generativeai as genai\n",
    "\n",
    "key_gemini = os.environ[\"GOOGLE_API_KEY\"]\n",
    "\n",
    "# genai.configure(api_key=key_gemini)\n",
    "\n",
    "# # Create the model\n",
    "# generation_config = {\n",
    "#     \"temperature\": 1,\n",
    "#     \"top_p\": 0.95,\n",
    "#     \"top_k\": 64,\n",
    "#     \"max_output_tokens\": 8192,\n",
    "#     \"response_mime_type\": \"application/json\",\n",
    "# }\n",
    "\n",
    "# llm_gemini = genai.GenerativeModel(\n",
    "#     model_name=\"gemini-1.5-flash\",\n",
    "#     generation_config=generation_config,\n",
    "#     # safety_settings = Adjust safety settings\n",
    "#     # See https://ai.google.dev/gemini-api/docs/safety-settings\n",
    "# )\n",
    "\n",
    "\n",
    "from langchain_google_genai import ChatGoogleGenerativeAI\n",
    "\n",
    "llm_gemini = ChatGoogleGenerativeAI(\n",
    "    model=\"gemini-1.5-flash\",\n",
    "    temperature=0.5,\n",
    "    max_tokens=None,\n",
    "    timeout=None,\n",
    "    max_retries=500,\n",
    "    # other params...\n",
    ")"
   ]
  },
  {
   "cell_type": "markdown",
   "metadata": {},
   "source": [
    "# OpenAI"
   ]
  },
  {
   "cell_type": "code",
   "execution_count": 3,
   "metadata": {},
   "outputs": [],
   "source": [
    "from langchain.prompts import PromptTemplate\n",
    "from langchain_openai import ChatOpenAI"
   ]
  },
  {
   "cell_type": "code",
   "execution_count": 4,
   "metadata": {},
   "outputs": [],
   "source": [
    "key_openai = os.environ[\"OPENAI_API_KEY\"]\n",
    "\n",
    "llm_openai = ChatOpenAI(model=\"gpt-4o-mini\", api_key=key_openai)"
   ]
  },
  {
   "cell_type": "code",
   "execution_count": 55,
   "metadata": {},
   "outputs": [],
   "source": [
    "topics = []\n",
    "\n",
    "def save(topic):\n",
    "    if topic not in topics:\n",
    "        topics.append(topic.copy())"
   ]
  },
  {
   "cell_type": "code",
   "execution_count": 56,
   "metadata": {},
   "outputs": [
    {
     "name": "stdout",
     "output_type": "stream",
     "text": [
      "0 - Probability & Statistics\n",
      "4     - Metrics and Model Diagnostics\n",
      "8         - Confusion Matrix\n",
      "12             - Calculate different metrics to measure the validity of the model\n",
      "12             - Examine the types of errors in confusion matrices\n",
      "12             - Describe the cells of a confusion matrix\n",
      "8         - Residuals\n",
      "12             - Examine the residuals of the regression line\n",
      "12             - Analyze a residuals plot\n",
      "12             - Measure the direction of the vector of residuals\n",
      "8         - Effect Sizes\n",
      "12             - Calculate Cohen's d\n",
      "12             - Calculate R-squared\n",
      "12             - Calculate area under the ROC curve\n",
      "4     - Probabilistic Theory\n",
      "8         - Probabilistic Independence\n",
      "12             - Identify independent events in probabilities\n",
      "12             - Compute the probability of a series of n independent events\n",
      "8         - Generative and Discriminative Models\n",
      "12             - Describe the features and uses of generative models\n",
      "12             - Describe the features and uses of discriminative models\n",
      "8         - Conditional Probabilities\n",
      "12             - Calculate conditional probabilities using the Bayes rule\n",
      "12             - Calculate the total probability of events\n",
      "8         - Probability Distributions\n",
      "12             - Find a probability using a Bernoulli distribution\n",
      "12             - Differentiate between different types of distributions\n",
      "12             - Find a probability using a uniform distribution\n",
      "12             - Find a probability using a Poisson distribution\n",
      "12             - Find a probability using a binomial distribution\n",
      "12             - Find a probability using a normal distribution\n",
      "8         - Operations on Probabilities\n",
      "12             - Find the probability of difference and complement\n",
      "12             - Find the probability of intersection and union\n",
      "8         - Probability Density Function (PDF)\n",
      "12             - Calculate mean using a probability density function (PDF)\n",
      "12             - Calculate a variance using a probability density function (PDF)\n",
      "12             - Calculate a probability using a density function\n"
     ]
    }
   ],
   "source": [
    "with open(\"../content_requirements/probability_extracted.txt\", 'r') as reader:\n",
    "    last_space_count = 0\n",
    "    curr_topic = []\n",
    "\n",
    "    for line in reader:\n",
    "        curr_space_count = line.find('-')\n",
    "        print(curr_space_count, line, end=\"\")\n",
    "\n",
    "        if len(curr_topic) == 0: #fix edge case \n",
    "            curr_topic.append(line)\n",
    "        else:\n",
    "            # case when is starting a group\n",
    "            if last_space_count < curr_space_count:\n",
    "                curr_topic.append(line.strip())\n",
    "            \n",
    "            # case when is ending a group\n",
    "            elif last_space_count > curr_space_count:\n",
    "                curr_topic.pop() # remove the leaf\n",
    "                \n",
    "                # remove the groups if necessary\n",
    "                qty_remove = int((last_space_count - curr_space_count) / 4)\n",
    "                for _ in range(qty_remove):\n",
    "                    curr_topic.pop() # remove the last from the topic list twice\n",
    "                \n",
    "                curr_topic.append(line.strip()) # add the new one\n",
    "            \n",
    "            # case when it got to the leaf\n",
    "            else: # last_space_count == curr_space_count:\n",
    "                # topics.append(curr_topic.copy()) # save\n",
    "                save(curr_topic)\n",
    "                curr_topic.pop() # remove the last from the topic\n",
    "                curr_topic.append(line.strip()) # add the new one\n",
    "                # topics.append(curr_topic.copy()) # save the new one before go to the next line\n",
    "                save(curr_topic)\n",
    "        \n",
    "        last_space_count = curr_space_count"
   ]
  },
  {
   "cell_type": "code",
   "execution_count": 57,
   "metadata": {},
   "outputs": [
    {
     "data": {
      "text/plain": [
       "[['- Probability & Statistics\\n',\n",
       "  '- Metrics and Model Diagnostics',\n",
       "  '- Confusion Matrix',\n",
       "  '- Calculate different metrics to measure the validity of the model'],\n",
       " ['- Probability & Statistics\\n',\n",
       "  '- Metrics and Model Diagnostics',\n",
       "  '- Confusion Matrix',\n",
       "  '- Examine the types of errors in confusion matrices'],\n",
       " ['- Probability & Statistics\\n',\n",
       "  '- Metrics and Model Diagnostics',\n",
       "  '- Confusion Matrix',\n",
       "  '- Describe the cells of a confusion matrix'],\n",
       " ['- Probability & Statistics\\n',\n",
       "  '- Metrics and Model Diagnostics',\n",
       "  '- Residuals',\n",
       "  '- Examine the residuals of the regression line'],\n",
       " ['- Probability & Statistics\\n',\n",
       "  '- Metrics and Model Diagnostics',\n",
       "  '- Residuals',\n",
       "  '- Analyze a residuals plot'],\n",
       " ['- Probability & Statistics\\n',\n",
       "  '- Metrics and Model Diagnostics',\n",
       "  '- Residuals',\n",
       "  '- Measure the direction of the vector of residuals'],\n",
       " ['- Probability & Statistics\\n',\n",
       "  '- Metrics and Model Diagnostics',\n",
       "  '- Effect Sizes',\n",
       "  \"- Calculate Cohen's d\"],\n",
       " ['- Probability & Statistics\\n',\n",
       "  '- Metrics and Model Diagnostics',\n",
       "  '- Effect Sizes',\n",
       "  '- Calculate R-squared'],\n",
       " ['- Probability & Statistics\\n',\n",
       "  '- Metrics and Model Diagnostics',\n",
       "  '- Effect Sizes',\n",
       "  '- Calculate area under the ROC curve'],\n",
       " ['- Probability & Statistics\\n',\n",
       "  '- Probabilistic Theory',\n",
       "  '- Probabilistic Independence',\n",
       "  '- Identify independent events in probabilities'],\n",
       " ['- Probability & Statistics\\n',\n",
       "  '- Probabilistic Theory',\n",
       "  '- Probabilistic Independence',\n",
       "  '- Compute the probability of a series of n independent events'],\n",
       " ['- Probability & Statistics\\n',\n",
       "  '- Probabilistic Theory',\n",
       "  '- Generative and Discriminative Models',\n",
       "  '- Describe the features and uses of generative models'],\n",
       " ['- Probability & Statistics\\n',\n",
       "  '- Probabilistic Theory',\n",
       "  '- Generative and Discriminative Models',\n",
       "  '- Describe the features and uses of discriminative models'],\n",
       " ['- Probability & Statistics\\n',\n",
       "  '- Probabilistic Theory',\n",
       "  '- Conditional Probabilities',\n",
       "  '- Calculate conditional probabilities using the Bayes rule'],\n",
       " ['- Probability & Statistics\\n',\n",
       "  '- Probabilistic Theory',\n",
       "  '- Conditional Probabilities',\n",
       "  '- Calculate the total probability of events'],\n",
       " ['- Probability & Statistics\\n',\n",
       "  '- Probabilistic Theory',\n",
       "  '- Probability Distributions',\n",
       "  '- Find a probability using a Bernoulli distribution'],\n",
       " ['- Probability & Statistics\\n',\n",
       "  '- Probabilistic Theory',\n",
       "  '- Probability Distributions',\n",
       "  '- Differentiate between different types of distributions'],\n",
       " ['- Probability & Statistics\\n',\n",
       "  '- Probabilistic Theory',\n",
       "  '- Probability Distributions',\n",
       "  '- Find a probability using a uniform distribution'],\n",
       " ['- Probability & Statistics\\n',\n",
       "  '- Probabilistic Theory',\n",
       "  '- Probability Distributions',\n",
       "  '- Find a probability using a Poisson distribution'],\n",
       " ['- Probability & Statistics\\n',\n",
       "  '- Probabilistic Theory',\n",
       "  '- Probability Distributions',\n",
       "  '- Find a probability using a binomial distribution'],\n",
       " ['- Probability & Statistics\\n',\n",
       "  '- Probabilistic Theory',\n",
       "  '- Probability Distributions',\n",
       "  '- Find a probability using a normal distribution'],\n",
       " ['- Probability & Statistics\\n',\n",
       "  '- Probabilistic Theory',\n",
       "  '- Operations on Probabilities',\n",
       "  '- Find the probability of difference and complement'],\n",
       " ['- Probability & Statistics\\n',\n",
       "  '- Probabilistic Theory',\n",
       "  '- Operations on Probabilities',\n",
       "  '- Find the probability of intersection and union'],\n",
       " ['- Probability & Statistics\\n',\n",
       "  '- Probabilistic Theory',\n",
       "  '- Probability Density Function (PDF)',\n",
       "  '- Calculate mean using a probability density function (PDF)'],\n",
       " ['- Probability & Statistics\\n',\n",
       "  '- Probabilistic Theory',\n",
       "  '- Probability Density Function (PDF)',\n",
       "  '- Calculate a variance using a probability density function (PDF)'],\n",
       " ['- Probability & Statistics\\n',\n",
       "  '- Probabilistic Theory',\n",
       "  '- Probability Density Function (PDF)',\n",
       "  '- Calculate a probability using a density function']]"
      ]
     },
     "execution_count": 57,
     "metadata": {},
     "output_type": "execute_result"
    }
   ],
   "source": [
    "topics"
   ]
  },
  {
   "cell_type": "code",
   "execution_count": 60,
   "metadata": {},
   "outputs": [],
   "source": [
    "# prompt = (\n",
    "#     \"I want you to work in steps. I will give you one task, after you complete it, you keep generating tokens and start the second task.\"\n",
    "#     \"#FIRST TASK: Create a list of topics of the mais concepts about a topic below. \\n\\n\"\n",
    "#     \"{topic} \\n\\n\"\n",
    "#     \"# SECOND TASK: I want you to expand the list that you just created to put the actual concepts in sub-itens. \\n\"\n",
    "#     \"Output format\"\n",
    "# )\n",
    "\n",
    "# prompt_template = PromptTemplate.from_template(prompt)"
   ]
  },
  {
   "cell_type": "code",
   "execution_count": 68,
   "metadata": {},
   "outputs": [],
   "source": [
    "prompt = (\n",
    "    \"Create a list of topics of the mais concepts about a topic below. \\n\\n\"\n",
    "    \"You should put the actual concepts in sub-itens. \\n\"\n",
    "    # \"I will use\"\n",
    "    \"{topic} \\n\\n\"\n",
    "    \"Output format: markdown code\"\n",
    ")\n",
    "\n",
    "prompt_template = PromptTemplate.from_template(prompt)"
   ]
  },
  {
   "cell_type": "code",
   "execution_count": 86,
   "metadata": {},
   "outputs": [],
   "source": [
    "chain = prompt_template | llm_gemini\n",
    "# chain = prompt_template | llm_openai"
   ]
  },
  {
   "cell_type": "code",
   "execution_count": 87,
   "metadata": {},
   "outputs": [
    {
     "data": {
      "text/plain": [
       "['- Confusion Matrix',\n",
       " '- Calculate different metrics to measure the validity of the model']"
      ]
     },
     "execution_count": 87,
     "metadata": {},
     "output_type": "execute_result"
    }
   ],
   "source": [
    "topics[0][-2:]"
   ]
  },
  {
   "cell_type": "code",
   "execution_count": 88,
   "metadata": {},
   "outputs": [
    {
     "data": {
      "text/plain": [
       "'- Confusion Matrix - Calculate different metrics to measure the validity of the model'"
      ]
     },
     "execution_count": 88,
     "metadata": {},
     "output_type": "execute_result"
    }
   ],
   "source": [
    "topic = \" \".join(topics[0][-2:])\n",
    "topic"
   ]
  },
  {
   "cell_type": "code",
   "execution_count": 89,
   "metadata": {},
   "outputs": [
    {
     "data": {
      "text/plain": [
       "AIMessage(content=\"## Confusion Matrix: Measuring Model Validity\\n\\n**1. Understanding the Confusion Matrix**\\n    - **True Positives (TP):** Correctly predicted positive cases.\\n    - **True Negatives (TN):** Correctly predicted negative cases.\\n    - **False Positives (FP):** Incorrectly predicted positive cases (Type I Error).\\n    - **False Negatives (FN):** Incorrectly predicted negative cases (Type II Error).\\n\\n**2. Key Metrics Derived from the Confusion Matrix**\\n    - **Accuracy:** Overall correct predictions (TP + TN) / Total cases.\\n    - **Precision:** Proportion of correctly predicted positive cases out of all predicted positive cases (TP / (TP + FP)).\\n    - **Recall (Sensitivity):** Proportion of correctly predicted positive cases out of all actual positive cases (TP / (TP + FN)).\\n    - **Specificity:** Proportion of correctly predicted negative cases out of all actual negative cases (TN / (TN + FP)).\\n    - **F1-Score:** Harmonic mean of precision and recall, balancing both metrics (2 * (Precision * Recall) / (Precision + Recall)).\\n\\n**3. Choosing the Right Metric**\\n    - **Accuracy:** Suitable for balanced datasets.\\n    - **Precision:** Prioritizes minimizing false positives.\\n    - **Recall:** Prioritizes minimizing false negatives.\\n    - **Specificity:** Important when minimizing false positives is crucial.\\n    - **F1-Score:** Provides a balanced view of precision and recall.\\n\\n**4. Applications of the Confusion Matrix**\\n    - **Evaluating classification models:** Assessing the model's performance on different datasets.\\n    - **Comparing different models:** Choosing the best model based on the desired metrics.\\n    - **Identifying areas for improvement:** Understanding the types of errors made by the model.\\n    - **Fine-tuning model parameters:** Adjusting model parameters to improve performance based on specific metrics.\\n\", additional_kwargs={}, response_metadata={'prompt_feedback': {'block_reason': 0, 'safety_ratings': []}, 'finish_reason': 'STOP', 'safety_ratings': [{'category': 'HARM_CATEGORY_SEXUALLY_EXPLICIT', 'probability': 'NEGLIGIBLE', 'blocked': False}, {'category': 'HARM_CATEGORY_HATE_SPEECH', 'probability': 'NEGLIGIBLE', 'blocked': False}, {'category': 'HARM_CATEGORY_HARASSMENT', 'probability': 'NEGLIGIBLE', 'blocked': False}, {'category': 'HARM_CATEGORY_DANGEROUS_CONTENT', 'probability': 'NEGLIGIBLE', 'blocked': False}]}, id='run-7eb6ec7d-ea2b-44ba-a66b-37f8a7819dd0-0', usage_metadata={'input_tokens': 51, 'output_tokens': 400, 'total_tokens': 451})"
      ]
     },
     "execution_count": 89,
     "metadata": {},
     "output_type": "execute_result"
    }
   ],
   "source": [
    "response = chain.invoke(\n",
    "    {\n",
    "        \"topic\": topic\n",
    "    }\n",
    ")\n",
    "\n",
    "response"
   ]
  },
  {
   "cell_type": "code",
   "execution_count": 90,
   "metadata": {},
   "outputs": [
    {
     "data": {
      "text/plain": [
       "\"## Confusion Matrix: Measuring Model Validity\\n\\n**1. Understanding the Confusion Matrix**\\n    - **True Positives (TP):** Correctly predicted positive cases.\\n    - **True Negatives (TN):** Correctly predicted negative cases.\\n    - **False Positives (FP):** Incorrectly predicted positive cases (Type I Error).\\n    - **False Negatives (FN):** Incorrectly predicted negative cases (Type II Error).\\n\\n**2. Key Metrics Derived from the Confusion Matrix**\\n    - **Accuracy:** Overall correct predictions (TP + TN) / Total cases.\\n    - **Precision:** Proportion of correctly predicted positive cases out of all predicted positive cases (TP / (TP + FP)).\\n    - **Recall (Sensitivity):** Proportion of correctly predicted positive cases out of all actual positive cases (TP / (TP + FN)).\\n    - **Specificity:** Proportion of correctly predicted negative cases out of all actual negative cases (TN / (TN + FP)).\\n    - **F1-Score:** Harmonic mean of precision and recall, balancing both metrics (2 * (Precision * Recall) / (Precision + Recall)).\\n\\n**3. Choosing the Right Metric**\\n    - **Accuracy:** Suitable for balanced datasets.\\n    - **Precision:** Prioritizes minimizing false positives.\\n    - **Recall:** Prioritizes minimizing false negatives.\\n    - **Specificity:** Important when minimizing false positives is crucial.\\n    - **F1-Score:** Provides a balanced view of precision and recall.\\n\\n**4. Applications of the Confusion Matrix**\\n    - **Evaluating classification models:** Assessing the model's performance on different datasets.\\n    - **Comparing different models:** Choosing the best model based on the desired metrics.\\n    - **Identifying areas for improvement:** Understanding the types of errors made by the model.\\n    - **Fine-tuning model parameters:** Adjusting model parameters to improve performance based on specific metrics.\\n\""
      ]
     },
     "execution_count": 90,
     "metadata": {},
     "output_type": "execute_result"
    }
   ],
   "source": [
    "response.content"
   ]
  },
  {
   "cell_type": "code",
   "execution_count": null,
   "metadata": {},
   "outputs": [],
   "source": []
  },
  {
   "cell_type": "code",
   "execution_count": 124,
   "metadata": {},
   "outputs": [
    {
     "data": {
      "text/html": [
       "<div>\n",
       "<style scoped>\n",
       "    .dataframe tbody tr th:only-of-type {\n",
       "        vertical-align: middle;\n",
       "    }\n",
       "\n",
       "    .dataframe tbody tr th {\n",
       "        vertical-align: top;\n",
       "    }\n",
       "\n",
       "    .dataframe thead th {\n",
       "        text-align: right;\n",
       "    }\n",
       "</style>\n",
       "<table border=\"1\" class=\"dataframe\">\n",
       "  <thead>\n",
       "    <tr style=\"text-align: right;\">\n",
       "      <th></th>\n",
       "      <th>topic_level_1</th>\n",
       "      <th>topic_level_2</th>\n",
       "      <th>topic_level_3</th>\n",
       "      <th>topic_level_4</th>\n",
       "      <th>content</th>\n",
       "    </tr>\n",
       "  </thead>\n",
       "  <tbody>\n",
       "  </tbody>\n",
       "</table>\n",
       "</div>"
      ],
      "text/plain": [
       "Empty DataFrame\n",
       "Columns: [topic_level_1, topic_level_2, topic_level_3, topic_level_4, content]\n",
       "Index: []"
      ]
     },
     "execution_count": 124,
     "metadata": {},
     "output_type": "execute_result"
    }
   ],
   "source": [
    "df = pd.DataFrame(columns=[\"topic_level_1\", \"topic_level_2\", \"topic_level_3\", \"topic_level_4\", \"content\"])\n",
    "df"
   ]
  },
  {
   "cell_type": "code",
   "execution_count": 129,
   "metadata": {},
   "outputs": [
    {
     "name": "stdout",
     "output_type": "stream",
     "text": [
      "- Probability Distributions - Find a probability using a Bernoulli distribution\n",
      "- Probability Distributions - Differentiate between different types of distributions\n",
      "- Probability Distributions - Find a probability using a uniform distribution\n",
      "- Probability Distributions - Find a probability using a Poisson distribution\n",
      "- Probability Distributions - Find a probability using a binomial distribution\n",
      "- Probability Distributions - Find a probability using a normal distribution\n",
      "- Operations on Probabilities - Find the probability of difference and complement\n",
      "- Operations on Probabilities - Find the probability of intersection and union\n",
      "- Probability Density Function (PDF) - Calculate mean using a probability density function (PDF)\n",
      "- Probability Density Function (PDF) - Calculate a variance using a probability density function (PDF)\n",
      "- Probability Density Function (PDF) - Calculate a probability using a density function\n"
     ]
    }
   ],
   "source": [
    "import time\n",
    "\n",
    "for topic in topics[15:]:\n",
    "    topic_joined = \" \".join(topic[-2:])\n",
    "    print(topic_joined)\n",
    "\n",
    "    try:\n",
    "        response = chain.invoke(\n",
    "            {\n",
    "                \"topic\": topic_joined\n",
    "            }\n",
    "        )\n",
    "    except:\n",
    "        time.sleep(70)\n",
    "        response = chain.invoke(\n",
    "            {\n",
    "                \"topic\": topic_joined\n",
    "            }\n",
    "        )\n",
    "\n",
    "    \n",
    "    row = topic.copy()\n",
    "    row.append(response.content)\n",
    "    \n",
    "    df.loc[len(df)] = row\n",
    "    df.to_csv(\"probability_content.csv\")"
   ]
  },
  {
   "cell_type": "code",
   "execution_count": null,
   "metadata": {},
   "outputs": [],
   "source": []
  }
 ],
 "metadata": {
  "kernelspec": {
   "display_name": ".venv",
   "language": "python",
   "name": "python3"
  },
  "language_info": {
   "codemirror_mode": {
    "name": "ipython",
    "version": 3
   },
   "file_extension": ".py",
   "mimetype": "text/x-python",
   "name": "python",
   "nbconvert_exporter": "python",
   "pygments_lexer": "ipython3",
   "version": "3.10.14"
  }
 },
 "nbformat": 4,
 "nbformat_minor": 2
}
