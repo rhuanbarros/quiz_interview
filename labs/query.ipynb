{
 "cells": [
  {
   "cell_type": "code",
   "execution_count": 15,
   "metadata": {},
   "outputs": [],
   "source": [
    "import os\n",
    "from dotenv import load_dotenv\n",
    "load_dotenv()  # take environment variables from .env.\n",
    "\n",
    "from supabase import create_client, Client\n",
    "\n",
    "import pandas as pd"
   ]
  },
  {
   "cell_type": "code",
   "execution_count": 2,
   "metadata": {},
   "outputs": [],
   "source": [
    "url = os.environ[\"SUPABASE_URL\"]\n",
    "key = os.environ[\"SUPABASE_KEY\"]\n",
    "\n",
    "supabase: Client = create_client(url, key)"
   ]
  },
  {
   "cell_type": "code",
   "execution_count": 3,
   "metadata": {},
   "outputs": [
    {
     "name": "stdout",
     "output_type": "stream",
     "text": [
      "('data', [{'id': 588, 'created_at': '2024-09-22T12:31:54.422615+00:00', 'subject_matter': 'Probability', 'topic_description': 'Common Misconceptions', 'level': 'Analyse', 'question': 'A study shows that people who drink coffee regularly have a higher risk of developing heart disease. Does this necessarily mean that drinking coffee causes heart disease?', 'type': 'multiple_options', 'answer_correct': 'b', 'explanation': 'The correct answer is **b**.  Correlation does not imply causation.  While the study shows a correlation between coffee consumption and heart disease, it does not prove that coffee is the cause of heart disease. There could be other factors, such as genetics, lifestyle, or other dietary habits, that contribute to both coffee consumption and heart disease.  \\n\\n**a** and **c** are incorrect because the study does not establish a causal relationship. \\n\\n**d** is incorrect because there is no scientific evidence to support the claim that coffee is a healthy drink and cannot cause heart disease.', 'answer_a': 'Yes, because the study shows a direct causal relationship between coffee consumption and heart disease.', 'answer_b': 'No, because correlation does not imply causation. There may be other factors influencing both coffee consumption and heart disease.', 'answer_c': 'No, because coffee is a healthy drink and cannot cause heart disease.', 'answer_d': 'Yes, because the study provides strong evidence for a causal link.'}])\n"
     ]
    }
   ],
   "source": [
    "data, count = supabase.table('get_question').select(\"*\").execute()\n",
    "print(data)"
   ]
  },
  {
   "cell_type": "code",
   "execution_count": 4,
   "metadata": {},
   "outputs": [
    {
     "data": {
      "text/plain": [
       "{'id': 588,\n",
       " 'created_at': '2024-09-22T12:31:54.422615+00:00',\n",
       " 'subject_matter': 'Probability',\n",
       " 'topic_description': 'Common Misconceptions',\n",
       " 'level': 'Analyse',\n",
       " 'question': 'A study shows that people who drink coffee regularly have a higher risk of developing heart disease. Does this necessarily mean that drinking coffee causes heart disease?',\n",
       " 'type': 'multiple_options',\n",
       " 'answer_correct': 'b',\n",
       " 'explanation': 'The correct answer is **b**.  Correlation does not imply causation.  While the study shows a correlation between coffee consumption and heart disease, it does not prove that coffee is the cause of heart disease. There could be other factors, such as genetics, lifestyle, or other dietary habits, that contribute to both coffee consumption and heart disease.  \\n\\n**a** and **c** are incorrect because the study does not establish a causal relationship. \\n\\n**d** is incorrect because there is no scientific evidence to support the claim that coffee is a healthy drink and cannot cause heart disease.',\n",
       " 'answer_a': 'Yes, because the study shows a direct causal relationship between coffee consumption and heart disease.',\n",
       " 'answer_b': 'No, because correlation does not imply causation. There may be other factors influencing both coffee consumption and heart disease.',\n",
       " 'answer_c': 'No, because coffee is a healthy drink and cannot cause heart disease.',\n",
       " 'answer_d': 'Yes, because the study provides strong evidence for a causal link.'}"
      ]
     },
     "execution_count": 4,
     "metadata": {},
     "output_type": "execute_result"
    }
   ],
   "source": [
    "data[1][0]"
   ]
  },
  {
   "cell_type": "code",
   "execution_count": null,
   "metadata": {},
   "outputs": [],
   "source": []
  },
  {
   "cell_type": "code",
   "execution_count": 5,
   "metadata": {},
   "outputs": [],
   "source": [
    "response = supabase.table('get_question').select(\"*\").execute()"
   ]
  },
  {
   "cell_type": "code",
   "execution_count": 9,
   "metadata": {},
   "outputs": [
    {
     "data": {
      "text/plain": [
       "[{'id': 193,\n",
       "  'created_at': '2024-09-22T12:31:47.019638+00:00',\n",
       "  'subject_matter': 'Probability',\n",
       "  'topic_description': 'Residuals interpretation',\n",
       "  'level': 'Remember',\n",
       "  'question': 'What does a negative residual in a linear regression model indicate?',\n",
       "  'type': 'multiple_options',\n",
       "  'answer_correct': 'a',\n",
       "  'explanation': 'The correct answer is **a**. A negative residual means that the predicted value (the value predicted by the regression line) is higher than the observed value (the actual data point). This indicates that the model overestimates the actual value for that data point.\\n\\nOption **b** is incorrect as it describes a positive residual.\\n\\nOptions **c** and **d** are incorrect as they refer to the overall model fit, not the specific interpretation of a single negative residual.',\n",
       "  'answer_a': 'The predicted value is higher than the observed value.',\n",
       "  'answer_b': 'The predicted value is lower than the observed value.',\n",
       "  'answer_c': 'The model is not a good fit for the data.',\n",
       "  'answer_d': 'The model is a perfect fit for the data.'}]"
      ]
     },
     "execution_count": 9,
     "metadata": {},
     "output_type": "execute_result"
    }
   ],
   "source": [
    "response.data"
   ]
  },
  {
   "cell_type": "code",
   "execution_count": null,
   "metadata": {},
   "outputs": [],
   "source": []
  },
  {
   "cell_type": "code",
   "execution_count": 11,
   "metadata": {},
   "outputs": [
    {
     "data": {
      "text/plain": [
       "APIResponse[~_ReturnT](data=[{'id': 193, 'created_at': '2024-09-22T12:31:47.019638+00:00', 'subject_matter': 'Probability', 'topic_description': 'Residuals interpretation', 'level': 'Remember', 'question': 'What does a negative residual in a linear regression model indicate?', 'type': 'multiple_options', 'answer_correct': 'a', 'explanation': 'The correct answer is **a**. A negative residual means that the predicted value (the value predicted by the regression line) is higher than the observed value (the actual data point). This indicates that the model overestimates the actual value for that data point.\\n\\nOption **b** is incorrect as it describes a positive residual.\\n\\nOptions **c** and **d** are incorrect as they refer to the overall model fit, not the specific interpretation of a single negative residual.', 'answer_a': 'The predicted value is higher than the observed value.', 'answer_b': 'The predicted value is lower than the observed value.', 'answer_c': 'The model is not a good fit for the data.', 'answer_d': 'The model is a perfect fit for the data.'}], count=None)"
      ]
     },
     "execution_count": 11,
     "metadata": {},
     "output_type": "execute_result"
    }
   ],
   "source": [
    "response = supabase.table('answer').insert({\"question_id\": 11, \"correct_answer\": True}).execute()\n",
    "response"
   ]
  },
  {
   "cell_type": "code",
   "execution_count": 12,
   "metadata": {},
   "outputs": [
    {
     "data": {
      "text/plain": [
       "APIResponse[~_ReturnT](data=[{'id': 2, 'created_at': '2024-09-22T16:12:34.541816+00:00', 'question_id': 11, 'correct_answer': True}], count=None)"
      ]
     },
     "execution_count": 12,
     "metadata": {},
     "output_type": "execute_result"
    }
   ],
   "source": [
    "reponse"
   ]
  },
  {
   "cell_type": "code",
   "execution_count": 20,
   "metadata": {},
   "outputs": [
    {
     "data": {
      "text/plain": [
       "APIResponse[~_ReturnT](data=[{'subject_matter': 'Probability', 'correct_answers': 1, 'incorrect_answers': 1, 'session_id': '6f267c06-c848-4ee9-820e-0bb61d40b174'}], count=None)"
      ]
     },
     "execution_count": 20,
     "metadata": {},
     "output_type": "execute_result"
    }
   ],
   "source": [
    "response = supabase.table('get_report').select(\"*\").eq(\"session_id\", \"6f267c06-c848-4ee9-820e-0bb61d40b174\").execute()\n",
    "response"
   ]
  },
  {
   "cell_type": "code",
   "execution_count": null,
   "metadata": {},
   "outputs": [],
   "source": []
  },
  {
   "cell_type": "code",
   "execution_count": 16,
   "metadata": {},
   "outputs": [
    {
     "data": {
      "text/html": [
       "<div>\n",
       "<style scoped>\n",
       "    .dataframe tbody tr th:only-of-type {\n",
       "        vertical-align: middle;\n",
       "    }\n",
       "\n",
       "    .dataframe tbody tr th {\n",
       "        vertical-align: top;\n",
       "    }\n",
       "\n",
       "    .dataframe thead th {\n",
       "        text-align: right;\n",
       "    }\n",
       "</style>\n",
       "<table border=\"1\" class=\"dataframe\">\n",
       "  <thead>\n",
       "    <tr style=\"text-align: right;\">\n",
       "      <th></th>\n",
       "      <th>subject_matter</th>\n",
       "      <th>correct_answers</th>\n",
       "      <th>incorrect_answers</th>\n",
       "    </tr>\n",
       "  </thead>\n",
       "  <tbody>\n",
       "    <tr>\n",
       "      <th>0</th>\n",
       "      <td>Probability</td>\n",
       "      <td>3</td>\n",
       "      <td>3</td>\n",
       "    </tr>\n",
       "  </tbody>\n",
       "</table>\n",
       "</div>"
      ],
      "text/plain": [
       "  subject_matter  correct_answers  incorrect_answers\n",
       "0    Probability                3                  3"
      ]
     },
     "execution_count": 16,
     "metadata": {},
     "output_type": "execute_result"
    }
   ],
   "source": [
    "pd.DataFrame(response.data)"
   ]
  },
  {
   "cell_type": "code",
   "execution_count": null,
   "metadata": {},
   "outputs": [],
   "source": []
  }
 ],
 "metadata": {
  "kernelspec": {
   "display_name": ".venv",
   "language": "python",
   "name": "python3"
  },
  "language_info": {
   "codemirror_mode": {
    "name": "ipython",
    "version": 3
   },
   "file_extension": ".py",
   "mimetype": "text/x-python",
   "name": "python",
   "nbconvert_exporter": "python",
   "pygments_lexer": "ipython3",
   "version": "3.11.2"
  }
 },
 "nbformat": 4,
 "nbformat_minor": 2
}
